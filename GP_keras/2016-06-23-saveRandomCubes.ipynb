{
 "cells": [
  {
   "cell_type": "markdown",
   "metadata": {},
   "source": [
    "# Extract needle labelmaps"
   ]
  },
  {
   "cell_type": "code",
   "execution_count": 1,
   "metadata": {
    "collapsed": false
   },
   "outputs": [
    {
     "name": "stdout",
     "output_type": "stream",
     "text": [
      "Populating the interactive namespace from numpy and matplotlib\n",
      "/Users/guillaume\n"
     ]
    }
   ],
   "source": [
    "from __future__ import division\n",
    "%matplotlib inline\n",
    "%pylab inline\n",
    "\n",
    "import pyprind\n",
    "import glob\n",
    "import os\n",
    "import SimpleITK as sitk\n",
    "import numpy as np\n",
    "import nrrd\n",
    "import numpy as np\n",
    "from sklearn import datasets, svm, metrics, decomposition\n",
    "from sklearn.externals import joblib\n",
    "import time\n",
    "from joblib import Parallel, delayed  \n",
    "import multiprocessing\n",
    "num_cores = multiprocessing.cpu_count()\n",
    "USERPATH = os.path.expanduser(\"~\")\n",
    "print(USERPATH)\n",
    "from mpl_toolkits.mplot3d import Axes3D\n",
    "import six.moves.cPickle as pickle"
   ]
  },
  {
   "cell_type": "markdown",
   "metadata": {},
   "source": [
    "## Functions to load the cases in slicer and extract positive or negative patches"
   ]
  },
  {
   "cell_type": "code",
   "execution_count": 5,
   "metadata": {
    "collapsed": false
   },
   "outputs": [],
   "source": [
    "# read file containing path of each MRML scenes\n",
    "with open('/Users/guillaume/Dropbox/GYN Cases/scenes.txt') as f:\n",
    "    lines = f.readlines()\n",
    "\n",
    "paths = []\n",
    "cases = []\n",
    "for line in lines:\n",
    "    paths.append('/Users/guillaume/Dropbox/GYN Cases' + line[1:-1])\n",
    "    cases.append(int(line.lstrip('./Case  ')[1:3]))\n",
    "\n",
    "\n",
    "def startExtractingRandomCubes(start=0):\n",
    "    '''\n",
    "    Extract Random Negative patches from all cases\n",
    "    '''\n",
    "    with open('/Users/guillaume/Dropbox/GYN Cases/scenes.txt') as f:\n",
    "        lines = f.readlines()\n",
    "    paths = []\n",
    "    cases = []\n",
    "    for line in lines:\n",
    "        paths.append('/Users/guillaume/Dropbox/GYN Cases' + line[1:-1])\n",
    "        cases.append(int(line.lstrip('./Case  ')[1:3]))\n",
    "    for k, path in enumerate(paths[start:]):\n",
    "        spath = path.split('/')\n",
    "        path = \"/\".join(spath[:-1]) + '/*.nrrd'\n",
    "        saveRandomCubes(path, cases[k], 30)\n",
    "\n",
    "def saveRandomCubes(path, number, numberOfSamples=30):\n",
    "    '''\n",
    "    Extract random negative patches. \n",
    "    TODO: check if it isn't actually a positive one\n",
    "    '''\n",
    "    try:\n",
    "        volume = nrrd.read(glob.glob(path)[0])[0]\n",
    "        for i in range(numberOfSamples):\n",
    "            xR = np.random.randint(10,40)\n",
    "            yR = np.random.randint(10,40)\n",
    "            zR = np.random.randint(10,40)\n",
    "\n",
    "            # sImage = sitk.GetImageFromArray(im[30:30+40, 30:30+40, 30:30+40])\n",
    "            sImage = sitk.GetImageFromArray(volume)\n",
    "            #\n",
    "            rimage = sitk.Image(20,20,20, sitk.sitkFloat32)\n",
    "            rimage.SetSpacing([1,1,1])\n",
    "            # rimage.SetDirection([-1,0,0,0,-1,0,0,0,1])\n",
    "            # rimage.SetOrigin([xR,yR,zR]) #-np.array([1,1,1]\n",
    "            sImage.SetOrigin([-xR,-yR,-zR])\n",
    "            rimage.SetOrigin([10,10,10])\n",
    "            #rimage.SetDirection([1,0,0]\n",
    "            tx = sitk.Transform()\n",
    "            #\n",
    "            lilImage = sitk.Resample(sImage, rimage, tx, sitk.sitkNearestNeighbor, sitk.sitkFloat32)\n",
    "            filename = \"/Users/guillaume/Dropbox/2016-projectweekdata/RandomCubes20-1/%d-%d-random_%d.nrrd\" % (number, np.random.randint(9999999), i)\n",
    "            sitk.WriteImage( lilImage, filename )\n",
    "    except:\n",
    "        pass"
   ]
  },
  {
   "cell_type": "code",
   "execution_count": 6,
   "metadata": {
    "collapsed": false
   },
   "outputs": [],
   "source": [
    "# startExtracting(0)"
   ]
  },
  {
   "cell_type": "code",
   "execution_count": 4,
   "metadata": {
    "collapsed": false
   },
   "outputs": [],
   "source": [
    "# p = glob.glob('/Users/guillaume/Dropbox/GYN Cases/Case  007/NRRD/Manual_CY/*.nrrd')"
   ]
  },
  {
   "cell_type": "markdown",
   "metadata": {
    "collapsed": false
   },
   "source": [
    "## Functions to convert manual needle segmentation to LabelMaps in Slicer"
   ]
  },
  {
   "cell_type": "code",
   "execution_count": null,
   "metadata": {
    "collapsed": true
   },
   "outputs": [],
   "source": [
    "def labelMapFromNeedle(inputVolume, needleID, value, caseNumber):\n",
    "    '''\n",
    "    Convert a needle to a labelmap, save it and remove the node from the scene.\n",
    "    '''\n",
    "    outputLabelMap = slicer.vtkMRMLLabelMapVolumeNode()\n",
    "    slicer.mrmlScene.AddNode(outputLabelMap)\n",
    "    params = {'sampleDistance': 0.1, 'labelValue': value, 'InputVolume': inputVolume.GetID(),\n",
    "              'surface': needleID, 'OutputVolume': outputLabelMap.GetID()}\n",
    "    slicer.cli.run(slicer.modules.modeltolabelmap, None, params, wait_for_completion=True)\n",
    "    # slicer.mrmlScene.GetNodeByID(\"vtkMRMLSliceNodeRed\").SetUseLabelOutline(True)\n",
    "    # slicer.mrmlScene.GetNodeByID(\"vtkMRMLSliceNodeYellow\").SetUseLabelOutline(True)\n",
    "    # slicer.mrmlScene.GetNodeByID(\"vtkMRMLSliceNodeRed\").RotateToVolumePlane(outputLabelMap)\n",
    "    # slicer.mrmlScene.GetNodeByID(\"vtkMRMLSliceNodeYellow\").RotateToVolumePlane(outputLabelMap)\n",
    "    slicer.util.saveNode(outputLabelMap, '/Users/guillaume/Projects/LabelMaps/%d/needle-%d.nrrd'%(caseNumber,value))\n",
    "    # slicer.mrmlScene.RemoveAllObservers()\n",
    "    slicer.mrmlScene.RemoveNodeReferences(outputLabelMap)\n",
    "    slicer.mrmlScene.RemoveNode(outputLabelMap)\n",
    "    return 0\n",
    "\n",
    "def startExtractingNeedles(start=0):\n",
    "    '''\n",
    "    Save the needles as individual labelmaps. Read the file the scenes.txt to obtain paths.\n",
    "    '''\n",
    "    with open('/Users/guillaume/Dropbox/GYN Cases/scenes.txt') as f:\n",
    "        lines = f.readlines()\n",
    "    paths = []\n",
    "    cases = []\n",
    "    for line in lines:\n",
    "        paths.append('/Users/guillaume/Dropbox/GYN Cases' + line[1:-1])\n",
    "        cases.append(int(line.lstrip('./Case  ')[1:3]))\n",
    "    for k, path in enumerate(paths[start:]):\n",
    "        slicer.util.loadScene(path)\n",
    "        nodes = slicer.util.getNodes(\"manual-seg*\")\n",
    "        backgroundNode = slicer.app.layoutManager().sliceWidget(\"Red\").sliceLogic().GetBackgroundLayer().GetVolumeNode()\n",
    "        slicer.util.saveNode(backgroundNode, '/Users/guillaume/Projects/LabelMaps/%d/case.nrrd'%(cases[k+start]))\n",
    "        for i, node in enumerate(nodes.values()):\n",
    "            labelMapFromNeedle(backgroundNode, node.GetID(), i+1, cases[k+start])\n",
    "            slicer.mrmlScene.RemoveNodeReferences(node)\n",
    "            # slicer.mrmlScene.RemoveObservers(node)\n",
    "            slicer.mrmlScene.RemoveNode(node)\n",
    "        print(\"start removing nodes------\")\n",
    "        # slicer.mrmlScene.RemoveAllObservers()\n",
    "        slicer.mrmlScene.RemoveNodeReferences(backgroundNode)\n",
    "        slicer.mrmlScene.RemoveNode(backgroundNode)\n",
    "        # slicer.mrmlScene.Clear(0)\n",
    "\n",
    "def extract(k):\n",
    "    '''\n",
    "    Extract needles of just one case.\n",
    "    '''\n",
    "    slicer.util.loadScene(paths[k])\n",
    "    nodes = slicer.util.getNodes(\"manual-seg*\")\n",
    "    backgroundNode = slicer.app.layoutManager().sliceWidget(\"Red\").sliceLogic().GetBackgroundLayer().GetVolumeNode()\n",
    "    slicer.util.saveNode(backgroundNode, '/Users/guillaume/Projects/LabelMaps/%d/case.nrrd'%(cases[k]))\n",
    "    for i, node in enumerate(nodes.values()):\n",
    "        labelMapFromNeedle(backgroundNode, node.GetID(), i+1, cases[k])\n",
    "        # slicer.mrmlScene.RemoveNode(node)\n",
    "    print(\"start removing nodes------\")\n",
    "    slicer.mrmlScene.RemoveAllObservers()\n",
    "    slicer.mrmlScene.RemoveNodeReferences(backgroundNode)\n",
    "    slicer.mrmlScene.RemoveNode(backgroundNode)\n",
    "    # slicer.mrmlScene.Clear(0)"
   ]
  }
 ],
 "metadata": {
  "kernelspec": {
   "display_name": "Python 3",
   "language": "python",
   "name": "python3"
  },
  "language_info": {
   "codemirror_mode": {
    "name": "ipython",
    "version": 3
   },
   "file_extension": ".py",
   "mimetype": "text/x-python",
   "name": "python",
   "nbconvert_exporter": "python",
   "pygments_lexer": "ipython3",
   "version": "3.5.1"
  }
 },
 "nbformat": 4,
 "nbformat_minor": 0
}
